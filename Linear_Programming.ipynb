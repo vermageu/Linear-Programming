{
 "cells": [
  {
   "cell_type": "markdown",
   "metadata": {},
   "source": [
    "**-----------------------------------------------------------------------------\n",
    "                                             INTRODUCTION TO LINEAR PROGRAMMING\n",
    "-------------------------------------------------------------------**                                           \n",
    "\n",
    "Optimization is the way of life. We all have finite resources and time and we want to make the most of them. \n",
    "From using our time productively to solving supply chain problems for our company – every thing uses optimization.\n",
    "\n",
    "**Linear Programming (also known as Linear Optimization)**, is an optimization technique where our target is to break down complex relationships in terms of linear expressions and then **find optimum results from the given linear expressions (e.g. lowest cost, maximum profit).**\n",
    "\n",
    "\n",
    "**----------------------------------------------------------------------------\n",
    "                                             APPLICATIONS OF LINEAR PROGRAMMING\n",
    "-------------------------------------------------------------------------**\n",
    "\n",
    "Applications of linear programming are every where around us. We use linear programming at various personal and professional fronts. We are using linear programming when driving from home to work and want to take the shortest route. Or when we have a project delivery and make strategies to make our team work efficiently for on time delivery.\n",
    "\n",
    "Linear programming is useful for many problems that require an optimization of resources. It could be applied to manufacturing, to calculate how to assign labor and machinery to minimize cost of operations. It could be applied in high-level business operations, to decide which products to sell and in what quantity in order to maximize profit. \n",
    "It could also be applied in logistics, to decide how to apply resources to get a job done in the minimum amount of time.\n",
    "\n",
    "Supervised Learning works on the basics of linear programming. A system is trained to fit on a mathematical model using a function from the labeled input data and the trained model is used to predict values for an unknown test data.\n",
    "\n",
    "\n",
    "**---------------------------------------------------------------------------\n",
    "                                             PROCEDURES OF LINEAR PROGRAMMING\n",
    "---------------------------------------------------------------------------**                                             \n",
    "\n",
    "1.) Linear programming can be used to solve a problem when the goal of the problem is to maximize some value and there is a linear system of inequalities that defines the \"constraints\" on the problem.\n",
    "   \n",
    "   **CONSTRAINTS:** A constraint is an inequality that defines how the values of the variables in a problem are limited. In order for linear programming techniques to work, all constraints should be linear inequalities.\n",
    "   \n",
    "\n",
    "2.) The general process for solving linear-programming exercises is to graph the inequalities (\"constraints\") to form a walled-off area on the x,y-plane (called the \"feasibility region\"). \n",
    "   \n",
    "   **FEASIBILITY REGION:** The region that is bound by the system of constraints is called the feasible region. It represents the possible values of the variables that satisfy all of the constraints. **In order for linear programming techniques to work, it should be a convex polytope** (in 2 dimensions, a convex polygon; in 3 dimensions, a convex polyhedron and so on). \n",
    "   \n",
    "   \n",
    "3.) Finding the feasible region is only sufficient to give the possible solutions of a problem. The goal of linear programming is to find the best solution to a problem. This is done by maximizing or minimizing the objective function.\n",
    "   \n",
    "   **OBJECTIVE FUNCTION:** The objective function is an function that defines some quantity that should be minimized or maximized. The arguments of the objective function are the same variables that are used in the constraints. **In order for linear programming techniques to work, the objective function should be linear. **\n",
    "\n",
    "-----------------------------------------------------------------------------------------------------------------------\n",
    "**PROBLEM STATEMENT:**\n",
    "\n",
    "**A car company produces 2 models, model A and model B. Long-term projections indicate an expected demand of at least 100 model A cars and 80 model B cars each day. Because of limitations on production capacity, no more than 200 model A cars and 170 model B cars can be made daily. To satisfy a shipping contract, a total of at least 200 cars much be shipped each day.\n",
    "If each model A car sold results in a \\$2000 loss, but each model B car produces a \\$5000 profit,  how many of each type should be made daily to maximize net profits?**\n",
    "\n",
    "-----------------------------------------------------------------------------------------------------------------------\n",
    "**CODE IN PYTHON 3.6:**"
   ]
  },
  {
   "cell_type": "code",
   "execution_count": 7,
   "metadata": {},
   "outputs": [
    {
     "name": "stdout",
     "output_type": "stream",
     "text": [
      "Sample of Linear Programming:\n",
      "MAXIMIZE\n",
      "-2000*x + 5000*y + 0\n",
      "SUBJECT TO\n",
      "_C1: x + y >= 200\n",
      "\n",
      "VARIABLES\n",
      "100 <= x <= 200 Continuous\n",
      "80 <= y <= 170 Continuous\n",
      "\n"
     ]
    }
   ],
   "source": [
    "'''\n",
    "PuLP is an LP modeler written in python. \n",
    "PuLP can generate MPS or LP files and call GLPK, COIN CLP/CBC, CPLEX, GUROBI to solve linear problems.\n",
    "'''\n",
    "import pulp\n",
    "\n",
    "Lp = pulp.LpProblem(\"Sample of Linear Programming\", pulp.LpMaximize)\n",
    "\n",
    "#Assignment of range in unknown variables x, y\n",
    "x = pulp.LpVariable('x', lowBound=100, upBound=200)\n",
    "y = pulp.LpVariable('y', lowBound=80, upBound=170)\n",
    "\n",
    "Lp += -2000*x + 5000*y                                 #Objective Function\n",
    "Lp += x + y >= 200                                     #Constraint assignment                      \n",
    "Lp.solve()                                             #Solve the expression\n",
    "print(Lp)                                              #Display details of problem\n",
    "\n"
   ]
  },
  {
   "cell_type": "code",
   "execution_count": 9,
   "metadata": {},
   "outputs": [
    {
     "name": "stdout",
     "output_type": "stream",
     "text": [
      "Total Model A & B cars required respectively: \n",
      "100.0\n",
      "170.0\n",
      "Maximum Profit: $ 650000\n"
     ]
    }
   ],
   "source": [
    "\n",
    "print(\"Total Model A & B cars required respectively: \")\n",
    "for i in Lp.variables():\n",
    "    print(i.varValue)\n",
    "print(\"Maximum Profit: $\", int(pulp.value(Lp.objective)))"
   ]
  },
  {
   "cell_type": "markdown",
   "metadata": {},
   "source": [
    "-----------------------------------------------------------------------------------------------------------------------\n",
    "   **CONCLUSION:**\n",
    "\n",
    "   **The company should manufacture 100 model A cars and 170 model B cars in order to get a maximum profit of \\$650,000**                                                 \n",
    "    "
   ]
  }
 ],
 "metadata": {
  "kernelspec": {
   "display_name": "Python 3",
   "language": "python",
   "name": "python3"
  },
  "language_info": {
   "codemirror_mode": {
    "name": "ipython",
    "version": 3
   },
   "file_extension": ".py",
   "mimetype": "text/x-python",
   "name": "python",
   "nbconvert_exporter": "python",
   "pygments_lexer": "ipython3",
   "version": "3.6.5"
  }
 },
 "nbformat": 4,
 "nbformat_minor": 2
}
